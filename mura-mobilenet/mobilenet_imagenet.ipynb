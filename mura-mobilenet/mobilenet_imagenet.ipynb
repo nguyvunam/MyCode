{
  "cells": [
    {
      "cell_type": "markdown",
      "metadata": {
        "id": "7a899787"
      },
      "source": [
        "## X-Ray Abnormality Detection | MobileNetV2, pretrained on ImageNet\n",
        "\n",
        "\n",
        "\n"
      ],
      "id": "7a899787"
    },
    {
      "cell_type": "code",
      "execution_count": null,
      "metadata": {
        "colab": {
          "base_uri": "https://localhost:8080/"
        },
        "id": "EaWSsBZLSxBs",
        "outputId": "76272543-a82c-48ec-c23c-7741e411fc05"
      },
      "outputs": [
        {
          "output_type": "stream",
          "name": "stdout",
          "text": [
            "Drive already mounted at /content/gdrive; to attempt to forcibly remount, call drive.mount(\"/content/gdrive\", force_remount=True).\n"
          ]
        }
      ],
      "source": [
        "#kết nối với gg drive\n",
        "from google.colab import drive\n",
        "drive.mount('/content/gdrive')"
      ],
      "id": "EaWSsBZLSxBs"
    },
    {
      "cell_type": "code",
      "execution_count": null,
      "metadata": {
        "id": "980BQbtlUgT_"
      },
      "outputs": [],
      "source": [
        "#đặt thêm đường dẫn tìm kiếm\n",
        "import sys\n",
        "sys.path.append('/content/gdrive/My Drive')"
      ],
      "id": "980BQbtlUgT_"
    },
    {
      "cell_type": "code",
      "execution_count": null,
      "metadata": {
        "colab": {
          "base_uri": "https://localhost:8080/"
        },
        "id": "lXoGoV2OdKq1",
        "outputId": "84b715aa-a13a-402d-a2fe-1998a095f52d"
      },
      "outputs": [
        {
          "output_type": "stream",
          "name": "stdout",
          "text": [
            "Looking in indexes: https://pypi.org/simple, https://us-python.pkg.dev/colab-wheels/public/simple/\n",
            "Collecting tensorflow-addons\n",
            "  Downloading tensorflow_addons-0.17.1-cp37-cp37m-manylinux_2_17_x86_64.manylinux2014_x86_64.whl (1.1 MB)\n",
            "\u001b[K     |████████████████████████████████| 1.1 MB 8.0 MB/s \n",
            "\u001b[?25hRequirement already satisfied: typeguard>=2.7 in /usr/local/lib/python3.7/dist-packages (from tensorflow-addons) (2.7.1)\n",
            "Requirement already satisfied: packaging in /usr/local/lib/python3.7/dist-packages (from tensorflow-addons) (21.3)\n",
            "Requirement already satisfied: pyparsing!=3.0.5,>=2.0.2 in /usr/local/lib/python3.7/dist-packages (from packaging->tensorflow-addons) (3.0.9)\n",
            "Installing collected packages: tensorflow-addons\n",
            "Successfully installed tensorflow-addons-0.17.1\n"
          ]
        }
      ],
      "source": [
        "!pip install tensorflow-addons"
      ],
      "id": "lXoGoV2OdKq1"
    },
    {
      "cell_type": "code",
      "execution_count": null,
      "metadata": {
        "id": "awIFpn9Zo-H6"
      },
      "outputs": [],
      "source": [
        "!unzip gdrive/MyDrive/MURA-v1.1.zip"
      ],
      "id": "awIFpn9Zo-H6"
    },
    {
      "cell_type": "code",
      "execution_count": null,
      "metadata": {
        "id": "99fc7dec"
      },
      "outputs": [],
      "source": [
        "import os\n",
        "import pathlib\n",
        "import random\n",
        "import re\n",
        "from glob import glob\n",
        "\n",
        "import matplotlib.pyplot as plt\n",
        "import numpy as np\n",
        "import pandas as pd\n",
        "import tensorflow as tf\n",
        "import tensorflow_addons as tfa\n",
        "from sklearn.metrics import cohen_kappa_score\n",
        "from sklearn.utils import shuffle\n",
        "\n",
        "from utils import (\n",
        "    clean_up,\n",
        "    F1Score,\n",
        "    inspect_df,\n",
        "    plot_metrics,\n",
        ")\n",
        "\n",
        "\n",
        "pd.set_option(\"max_colwidth\", None)\n",
        "#plt.style.use(\"dark_background\") 'default'"
      ],
      "id": "99fc7dec"
    },
    {
      "cell_type": "code",
      "execution_count": null,
      "metadata": {
        "id": "8d64d949"
      },
      "outputs": [],
      "source": [
        "gpus = tf.config.experimental.list_physical_devices(\"GPU\")\n",
        "\n",
        "try:\n",
        "    tf.config.experimental.set_memory_growth(gpus[0], True)\n",
        "except IndexError:\n",
        "    print(\"Cannot memory-restrict the GPU, if no GPU exists in system. Ignore...\")\n",
        "    pass"
      ],
      "id": "8d64d949"
    },
    {
      "cell_type": "code",
      "execution_count": null,
      "metadata": {
        "id": "a6659fde"
      },
      "outputs": [],
      "source": [
        "SEED = 314\n",
        "\n",
        "os.environ[\"PYTHONHASHSEED\"] = str(SEED)\n",
        "random.seed(SEED)\n",
        "tf.random.set_seed(SEED)\n",
        "np.random.seed(SEED)"
      ],
      "id": "a6659fde"
    },
    {
      "cell_type": "markdown",
      "metadata": {
        "id": "b5346f99"
      },
      "source": [
        "### Data Loading"
      ],
      "id": "b5346f99"
    },
    {
      "cell_type": "code",
      "execution_count": null,
      "metadata": {
        "id": "5819c5d3"
      },
      "outputs": [],
      "source": [
        "DATASET_DIR = \"/content/MURA-v1.1\""
      ],
      "id": "5819c5d3"
    },
    {
      "cell_type": "code",
      "execution_count": null,
      "metadata": {
        "colab": {
          "base_uri": "https://localhost:8080/"
        },
        "id": "6ee568f1",
        "outputId": "cb5aa09f-425b-4251-e572-900fd0f925e7",
        "scrolled": false
      },
      "outputs": [
        {
          "output_type": "stream",
          "name": "stdout",
          "text": [
            "shape: (36808, 1)\n"
          ]
        },
        {
          "output_type": "execute_result",
          "data": {
            "text/plain": [
              "                                                            image_path\n",
              "0  MURA-v1.1/train/XR_SHOULDER/patient00001/study1_positive/image1.png\n",
              "1  MURA-v1.1/train/XR_SHOULDER/patient00001/study1_positive/image2.png\n",
              "2  MURA-v1.1/train/XR_SHOULDER/patient00001/study1_positive/image3.png\n",
              "3  MURA-v1.1/train/XR_SHOULDER/patient00002/study1_positive/image1.png\n",
              "4  MURA-v1.1/train/XR_SHOULDER/patient00002/study1_positive/image2.png"
            ],
            "text/html": [
              "\n",
              "  <div id=\"df-35c92a62-5cef-49af-a9e0-e69a6c1ddfd6\">\n",
              "    <div class=\"colab-df-container\">\n",
              "      <div>\n",
              "<style scoped>\n",
              "    .dataframe tbody tr th:only-of-type {\n",
              "        vertical-align: middle;\n",
              "    }\n",
              "\n",
              "    .dataframe tbody tr th {\n",
              "        vertical-align: top;\n",
              "    }\n",
              "\n",
              "    .dataframe thead th {\n",
              "        text-align: right;\n",
              "    }\n",
              "</style>\n",
              "<table border=\"1\" class=\"dataframe\">\n",
              "  <thead>\n",
              "    <tr style=\"text-align: right;\">\n",
              "      <th></th>\n",
              "      <th>image_path</th>\n",
              "    </tr>\n",
              "  </thead>\n",
              "  <tbody>\n",
              "    <tr>\n",
              "      <th>0</th>\n",
              "      <td>MURA-v1.1/train/XR_SHOULDER/patient00001/study1_positive/image1.png</td>\n",
              "    </tr>\n",
              "    <tr>\n",
              "      <th>1</th>\n",
              "      <td>MURA-v1.1/train/XR_SHOULDER/patient00001/study1_positive/image2.png</td>\n",
              "    </tr>\n",
              "    <tr>\n",
              "      <th>2</th>\n",
              "      <td>MURA-v1.1/train/XR_SHOULDER/patient00001/study1_positive/image3.png</td>\n",
              "    </tr>\n",
              "    <tr>\n",
              "      <th>3</th>\n",
              "      <td>MURA-v1.1/train/XR_SHOULDER/patient00002/study1_positive/image1.png</td>\n",
              "    </tr>\n",
              "    <tr>\n",
              "      <th>4</th>\n",
              "      <td>MURA-v1.1/train/XR_SHOULDER/patient00002/study1_positive/image2.png</td>\n",
              "    </tr>\n",
              "  </tbody>\n",
              "</table>\n",
              "</div>\n",
              "      <button class=\"colab-df-convert\" onclick=\"convertToInteractive('df-35c92a62-5cef-49af-a9e0-e69a6c1ddfd6')\"\n",
              "              title=\"Convert this dataframe to an interactive table.\"\n",
              "              style=\"display:none;\">\n",
              "        \n",
              "  <svg xmlns=\"http://www.w3.org/2000/svg\" height=\"24px\"viewBox=\"0 0 24 24\"\n",
              "       width=\"24px\">\n",
              "    <path d=\"M0 0h24v24H0V0z\" fill=\"none\"/>\n",
              "    <path d=\"M18.56 5.44l.94 2.06.94-2.06 2.06-.94-2.06-.94-.94-2.06-.94 2.06-2.06.94zm-11 1L8.5 8.5l.94-2.06 2.06-.94-2.06-.94L8.5 2.5l-.94 2.06-2.06.94zm10 10l.94 2.06.94-2.06 2.06-.94-2.06-.94-.94-2.06-.94 2.06-2.06.94z\"/><path d=\"M17.41 7.96l-1.37-1.37c-.4-.4-.92-.59-1.43-.59-.52 0-1.04.2-1.43.59L10.3 9.45l-7.72 7.72c-.78.78-.78 2.05 0 2.83L4 21.41c.39.39.9.59 1.41.59.51 0 1.02-.2 1.41-.59l7.78-7.78 2.81-2.81c.8-.78.8-2.07 0-2.86zM5.41 20L4 18.59l7.72-7.72 1.47 1.35L5.41 20z\"/>\n",
              "  </svg>\n",
              "      </button>\n",
              "      \n",
              "  <style>\n",
              "    .colab-df-container {\n",
              "      display:flex;\n",
              "      flex-wrap:wrap;\n",
              "      gap: 12px;\n",
              "    }\n",
              "\n",
              "    .colab-df-convert {\n",
              "      background-color: #E8F0FE;\n",
              "      border: none;\n",
              "      border-radius: 50%;\n",
              "      cursor: pointer;\n",
              "      display: none;\n",
              "      fill: #1967D2;\n",
              "      height: 32px;\n",
              "      padding: 0 0 0 0;\n",
              "      width: 32px;\n",
              "    }\n",
              "\n",
              "    .colab-df-convert:hover {\n",
              "      background-color: #E2EBFA;\n",
              "      box-shadow: 0px 1px 2px rgba(60, 64, 67, 0.3), 0px 1px 3px 1px rgba(60, 64, 67, 0.15);\n",
              "      fill: #174EA6;\n",
              "    }\n",
              "\n",
              "    [theme=dark] .colab-df-convert {\n",
              "      background-color: #3B4455;\n",
              "      fill: #D2E3FC;\n",
              "    }\n",
              "\n",
              "    [theme=dark] .colab-df-convert:hover {\n",
              "      background-color: #434B5C;\n",
              "      box-shadow: 0px 1px 3px 1px rgba(0, 0, 0, 0.15);\n",
              "      filter: drop-shadow(0px 1px 2px rgba(0, 0, 0, 0.3));\n",
              "      fill: #FFFFFF;\n",
              "    }\n",
              "  </style>\n",
              "\n",
              "      <script>\n",
              "        const buttonEl =\n",
              "          document.querySelector('#df-35c92a62-5cef-49af-a9e0-e69a6c1ddfd6 button.colab-df-convert');\n",
              "        buttonEl.style.display =\n",
              "          google.colab.kernel.accessAllowed ? 'block' : 'none';\n",
              "\n",
              "        async function convertToInteractive(key) {\n",
              "          const element = document.querySelector('#df-35c92a62-5cef-49af-a9e0-e69a6c1ddfd6');\n",
              "          const dataTable =\n",
              "            await google.colab.kernel.invokeFunction('convertToInteractive',\n",
              "                                                     [key], {});\n",
              "          if (!dataTable) return;\n",
              "\n",
              "          const docLinkHtml = 'Like what you see? Visit the ' +\n",
              "            '<a target=\"_blank\" href=https://colab.research.google.com/notebooks/data_table.ipynb>data table notebook</a>'\n",
              "            + ' to learn more about interactive tables.';\n",
              "          element.innerHTML = '';\n",
              "          dataTable['output_type'] = 'display_data';\n",
              "          await google.colab.output.renderOutput(dataTable, element);\n",
              "          const docLink = document.createElement('div');\n",
              "          docLink.innerHTML = docLinkHtml;\n",
              "          element.appendChild(docLink);\n",
              "        }\n",
              "      </script>\n",
              "    </div>\n",
              "  </div>\n",
              "  "
            ]
          },
          "metadata": {},
          "execution_count": 48
        }
      ],
      "source": [
        "train_image_paths = pd.read_csv(\n",
        "    os.path.join(DATASET_DIR, \"train_image_paths.csv\"), #\"train_image_paths.csv\"\n",
        "    names=[\"image_path\"],\n",
        "    header=None,\n",
        "    index_col=False,\n",
        ")\n",
        "\n",
        "inspect_df(train_image_paths)"
      ],
      "id": "6ee568f1"
    },
    {
      "cell_type": "code",
      "execution_count": null,
      "metadata": {
        "id": "60a69725"
      },
      "outputs": [],
      "source": [
        "train_image_paths[\"image_path\"] = train_image_paths[\"image_path\"].map(\n",
        "    lambda x: os.path.join(\"/content/\", x)\n",
        ")\n",
        "train_image_paths[\"study_type\"] = train_image_paths[\"image_path\"].map(\n",
        "    lambda x: x.split(\"/\")[4]\n",
        ")\n",
        "train_image_paths[\"patient\"] = train_image_paths[\"image_path\"].map(\n",
        "    lambda x: x.split(\"/\")[5]\n",
        ")\n",
        "train_image_paths[\"study\"] = train_image_paths[\"image_path\"].map(\n",
        "    lambda x: x.split(\"/\")[6]\n",
        ")\n",
        "train_image_paths[\"study_path\"] = train_image_paths[\"image_path\"].map(\n",
        "    lambda x: re.sub(r\"image\\d+.png\", \"\", x)\n",
        ")"
      ],
      "id": "60a69725"
    },
    {
      "cell_type": "code",
      "execution_count": null,
      "metadata": {
        "colab": {
          "base_uri": "https://localhost:8080/"
        },
        "id": "d073e76e",
        "outputId": "a013dc00-03ea-4114-fe92-29ab170b0b21"
      },
      "outputs": [
        {
          "output_type": "stream",
          "name": "stdout",
          "text": [
            "shape: (36808, 5)\n"
          ]
        },
        {
          "output_type": "execute_result",
          "data": {
            "text/plain": [
              "                                                                     image_path  \\\n",
              "0  /content/MURA-v1.1/train/XR_SHOULDER/patient00001/study1_positive/image1.png   \n",
              "1  /content/MURA-v1.1/train/XR_SHOULDER/patient00001/study1_positive/image2.png   \n",
              "2  /content/MURA-v1.1/train/XR_SHOULDER/patient00001/study1_positive/image3.png   \n",
              "3  /content/MURA-v1.1/train/XR_SHOULDER/patient00002/study1_positive/image1.png   \n",
              "4  /content/MURA-v1.1/train/XR_SHOULDER/patient00002/study1_positive/image2.png   \n",
              "\n",
              "    study_type       patient            study  \\\n",
              "0  XR_SHOULDER  patient00001  study1_positive   \n",
              "1  XR_SHOULDER  patient00001  study1_positive   \n",
              "2  XR_SHOULDER  patient00001  study1_positive   \n",
              "3  XR_SHOULDER  patient00002  study1_positive   \n",
              "4  XR_SHOULDER  patient00002  study1_positive   \n",
              "\n",
              "                                                           study_path  \n",
              "0  /content/MURA-v1.1/train/XR_SHOULDER/patient00001/study1_positive/  \n",
              "1  /content/MURA-v1.1/train/XR_SHOULDER/patient00001/study1_positive/  \n",
              "2  /content/MURA-v1.1/train/XR_SHOULDER/patient00001/study1_positive/  \n",
              "3  /content/MURA-v1.1/train/XR_SHOULDER/patient00002/study1_positive/  \n",
              "4  /content/MURA-v1.1/train/XR_SHOULDER/patient00002/study1_positive/  "
            ],
            "text/html": [
              "\n",
              "  <div id=\"df-dd42f6cd-8c91-4110-9e4d-f5bc8830bd88\">\n",
              "    <div class=\"colab-df-container\">\n",
              "      <div>\n",
              "<style scoped>\n",
              "    .dataframe tbody tr th:only-of-type {\n",
              "        vertical-align: middle;\n",
              "    }\n",
              "\n",
              "    .dataframe tbody tr th {\n",
              "        vertical-align: top;\n",
              "    }\n",
              "\n",
              "    .dataframe thead th {\n",
              "        text-align: right;\n",
              "    }\n",
              "</style>\n",
              "<table border=\"1\" class=\"dataframe\">\n",
              "  <thead>\n",
              "    <tr style=\"text-align: right;\">\n",
              "      <th></th>\n",
              "      <th>image_path</th>\n",
              "      <th>study_type</th>\n",
              "      <th>patient</th>\n",
              "      <th>study</th>\n",
              "      <th>study_path</th>\n",
              "    </tr>\n",
              "  </thead>\n",
              "  <tbody>\n",
              "    <tr>\n",
              "      <th>0</th>\n",
              "      <td>/content/MURA-v1.1/train/XR_SHOULDER/patient00001/study1_positive/image1.png</td>\n",
              "      <td>XR_SHOULDER</td>\n",
              "      <td>patient00001</td>\n",
              "      <td>study1_positive</td>\n",
              "      <td>/content/MURA-v1.1/train/XR_SHOULDER/patient00001/study1_positive/</td>\n",
              "    </tr>\n",
              "    <tr>\n",
              "      <th>1</th>\n",
              "      <td>/content/MURA-v1.1/train/XR_SHOULDER/patient00001/study1_positive/image2.png</td>\n",
              "      <td>XR_SHOULDER</td>\n",
              "      <td>patient00001</td>\n",
              "      <td>study1_positive</td>\n",
              "      <td>/content/MURA-v1.1/train/XR_SHOULDER/patient00001/study1_positive/</td>\n",
              "    </tr>\n",
              "    <tr>\n",
              "      <th>2</th>\n",
              "      <td>/content/MURA-v1.1/train/XR_SHOULDER/patient00001/study1_positive/image3.png</td>\n",
              "      <td>XR_SHOULDER</td>\n",
              "      <td>patient00001</td>\n",
              "      <td>study1_positive</td>\n",
              "      <td>/content/MURA-v1.1/train/XR_SHOULDER/patient00001/study1_positive/</td>\n",
              "    </tr>\n",
              "    <tr>\n",
              "      <th>3</th>\n",
              "      <td>/content/MURA-v1.1/train/XR_SHOULDER/patient00002/study1_positive/image1.png</td>\n",
              "      <td>XR_SHOULDER</td>\n",
              "      <td>patient00002</td>\n",
              "      <td>study1_positive</td>\n",
              "      <td>/content/MURA-v1.1/train/XR_SHOULDER/patient00002/study1_positive/</td>\n",
              "    </tr>\n",
              "    <tr>\n",
              "      <th>4</th>\n",
              "      <td>/content/MURA-v1.1/train/XR_SHOULDER/patient00002/study1_positive/image2.png</td>\n",
              "      <td>XR_SHOULDER</td>\n",
              "      <td>patient00002</td>\n",
              "      <td>study1_positive</td>\n",
              "      <td>/content/MURA-v1.1/train/XR_SHOULDER/patient00002/study1_positive/</td>\n",
              "    </tr>\n",
              "  </tbody>\n",
              "</table>\n",
              "</div>\n",
              "      <button class=\"colab-df-convert\" onclick=\"convertToInteractive('df-dd42f6cd-8c91-4110-9e4d-f5bc8830bd88')\"\n",
              "              title=\"Convert this dataframe to an interactive table.\"\n",
              "              style=\"display:none;\">\n",
              "        \n",
              "  <svg xmlns=\"http://www.w3.org/2000/svg\" height=\"24px\"viewBox=\"0 0 24 24\"\n",
              "       width=\"24px\">\n",
              "    <path d=\"M0 0h24v24H0V0z\" fill=\"none\"/>\n",
              "    <path d=\"M18.56 5.44l.94 2.06.94-2.06 2.06-.94-2.06-.94-.94-2.06-.94 2.06-2.06.94zm-11 1L8.5 8.5l.94-2.06 2.06-.94-2.06-.94L8.5 2.5l-.94 2.06-2.06.94zm10 10l.94 2.06.94-2.06 2.06-.94-2.06-.94-.94-2.06-.94 2.06-2.06.94z\"/><path d=\"M17.41 7.96l-1.37-1.37c-.4-.4-.92-.59-1.43-.59-.52 0-1.04.2-1.43.59L10.3 9.45l-7.72 7.72c-.78.78-.78 2.05 0 2.83L4 21.41c.39.39.9.59 1.41.59.51 0 1.02-.2 1.41-.59l7.78-7.78 2.81-2.81c.8-.78.8-2.07 0-2.86zM5.41 20L4 18.59l7.72-7.72 1.47 1.35L5.41 20z\"/>\n",
              "  </svg>\n",
              "      </button>\n",
              "      \n",
              "  <style>\n",
              "    .colab-df-container {\n",
              "      display:flex;\n",
              "      flex-wrap:wrap;\n",
              "      gap: 12px;\n",
              "    }\n",
              "\n",
              "    .colab-df-convert {\n",
              "      background-color: #E8F0FE;\n",
              "      border: none;\n",
              "      border-radius: 50%;\n",
              "      cursor: pointer;\n",
              "      display: none;\n",
              "      fill: #1967D2;\n",
              "      height: 32px;\n",
              "      padding: 0 0 0 0;\n",
              "      width: 32px;\n",
              "    }\n",
              "\n",
              "    .colab-df-convert:hover {\n",
              "      background-color: #E2EBFA;\n",
              "      box-shadow: 0px 1px 2px rgba(60, 64, 67, 0.3), 0px 1px 3px 1px rgba(60, 64, 67, 0.15);\n",
              "      fill: #174EA6;\n",
              "    }\n",
              "\n",
              "    [theme=dark] .colab-df-convert {\n",
              "      background-color: #3B4455;\n",
              "      fill: #D2E3FC;\n",
              "    }\n",
              "\n",
              "    [theme=dark] .colab-df-convert:hover {\n",
              "      background-color: #434B5C;\n",
              "      box-shadow: 0px 1px 3px 1px rgba(0, 0, 0, 0.15);\n",
              "      filter: drop-shadow(0px 1px 2px rgba(0, 0, 0, 0.3));\n",
              "      fill: #FFFFFF;\n",
              "    }\n",
              "  </style>\n",
              "\n",
              "      <script>\n",
              "        const buttonEl =\n",
              "          document.querySelector('#df-dd42f6cd-8c91-4110-9e4d-f5bc8830bd88 button.colab-df-convert');\n",
              "        buttonEl.style.display =\n",
              "          google.colab.kernel.accessAllowed ? 'block' : 'none';\n",
              "\n",
              "        async function convertToInteractive(key) {\n",
              "          const element = document.querySelector('#df-dd42f6cd-8c91-4110-9e4d-f5bc8830bd88');\n",
              "          const dataTable =\n",
              "            await google.colab.kernel.invokeFunction('convertToInteractive',\n",
              "                                                     [key], {});\n",
              "          if (!dataTable) return;\n",
              "\n",
              "          const docLinkHtml = 'Like what you see? Visit the ' +\n",
              "            '<a target=\"_blank\" href=https://colab.research.google.com/notebooks/data_table.ipynb>data table notebook</a>'\n",
              "            + ' to learn more about interactive tables.';\n",
              "          element.innerHTML = '';\n",
              "          dataTable['output_type'] = 'display_data';\n",
              "          await google.colab.output.renderOutput(dataTable, element);\n",
              "          const docLink = document.createElement('div');\n",
              "          docLink.innerHTML = docLinkHtml;\n",
              "          element.appendChild(docLink);\n",
              "        }\n",
              "      </script>\n",
              "    </div>\n",
              "  </div>\n",
              "  "
            ]
          },
          "metadata": {},
          "execution_count": 50
        }
      ],
      "source": [
        "inspect_df(train_image_paths)"
      ],
      "id": "d073e76e"
    },
    {
      "cell_type": "code",
      "execution_count": null,
      "metadata": {
        "colab": {
          "base_uri": "https://localhost:8080/"
        },
        "id": "59cf2544",
        "outputId": "a9e10cd5-8ee6-4bed-f828-f6e2839b848a",
        "scrolled": false
      },
      "outputs": [
        {
          "output_type": "stream",
          "name": "stdout",
          "text": [
            "shape: (13457, 2)\n"
          ]
        },
        {
          "output_type": "execute_result",
          "data": {
            "text/plain": [
              "                                                  study_path  label\n",
              "0  MURA-v1.1/train/XR_SHOULDER/patient00001/study1_positive/      1\n",
              "1  MURA-v1.1/train/XR_SHOULDER/patient00002/study1_positive/      1\n",
              "2  MURA-v1.1/train/XR_SHOULDER/patient00003/study1_positive/      1\n",
              "3  MURA-v1.1/train/XR_SHOULDER/patient00004/study1_positive/      1\n",
              "4  MURA-v1.1/train/XR_SHOULDER/patient00005/study1_positive/      1"
            ],
            "text/html": [
              "\n",
              "  <div id=\"df-ac55ec23-b0a5-4ae2-913f-76b95c5ecdf2\">\n",
              "    <div class=\"colab-df-container\">\n",
              "      <div>\n",
              "<style scoped>\n",
              "    .dataframe tbody tr th:only-of-type {\n",
              "        vertical-align: middle;\n",
              "    }\n",
              "\n",
              "    .dataframe tbody tr th {\n",
              "        vertical-align: top;\n",
              "    }\n",
              "\n",
              "    .dataframe thead th {\n",
              "        text-align: right;\n",
              "    }\n",
              "</style>\n",
              "<table border=\"1\" class=\"dataframe\">\n",
              "  <thead>\n",
              "    <tr style=\"text-align: right;\">\n",
              "      <th></th>\n",
              "      <th>study_path</th>\n",
              "      <th>label</th>\n",
              "    </tr>\n",
              "  </thead>\n",
              "  <tbody>\n",
              "    <tr>\n",
              "      <th>0</th>\n",
              "      <td>MURA-v1.1/train/XR_SHOULDER/patient00001/study1_positive/</td>\n",
              "      <td>1</td>\n",
              "    </tr>\n",
              "    <tr>\n",
              "      <th>1</th>\n",
              "      <td>MURA-v1.1/train/XR_SHOULDER/patient00002/study1_positive/</td>\n",
              "      <td>1</td>\n",
              "    </tr>\n",
              "    <tr>\n",
              "      <th>2</th>\n",
              "      <td>MURA-v1.1/train/XR_SHOULDER/patient00003/study1_positive/</td>\n",
              "      <td>1</td>\n",
              "    </tr>\n",
              "    <tr>\n",
              "      <th>3</th>\n",
              "      <td>MURA-v1.1/train/XR_SHOULDER/patient00004/study1_positive/</td>\n",
              "      <td>1</td>\n",
              "    </tr>\n",
              "    <tr>\n",
              "      <th>4</th>\n",
              "      <td>MURA-v1.1/train/XR_SHOULDER/patient00005/study1_positive/</td>\n",
              "      <td>1</td>\n",
              "    </tr>\n",
              "  </tbody>\n",
              "</table>\n",
              "</div>\n",
              "      <button class=\"colab-df-convert\" onclick=\"convertToInteractive('df-ac55ec23-b0a5-4ae2-913f-76b95c5ecdf2')\"\n",
              "              title=\"Convert this dataframe to an interactive table.\"\n",
              "              style=\"display:none;\">\n",
              "        \n",
              "  <svg xmlns=\"http://www.w3.org/2000/svg\" height=\"24px\"viewBox=\"0 0 24 24\"\n",
              "       width=\"24px\">\n",
              "    <path d=\"M0 0h24v24H0V0z\" fill=\"none\"/>\n",
              "    <path d=\"M18.56 5.44l.94 2.06.94-2.06 2.06-.94-2.06-.94-.94-2.06-.94 2.06-2.06.94zm-11 1L8.5 8.5l.94-2.06 2.06-.94-2.06-.94L8.5 2.5l-.94 2.06-2.06.94zm10 10l.94 2.06.94-2.06 2.06-.94-2.06-.94-.94-2.06-.94 2.06-2.06.94z\"/><path d=\"M17.41 7.96l-1.37-1.37c-.4-.4-.92-.59-1.43-.59-.52 0-1.04.2-1.43.59L10.3 9.45l-7.72 7.72c-.78.78-.78 2.05 0 2.83L4 21.41c.39.39.9.59 1.41.59.51 0 1.02-.2 1.41-.59l7.78-7.78 2.81-2.81c.8-.78.8-2.07 0-2.86zM5.41 20L4 18.59l7.72-7.72 1.47 1.35L5.41 20z\"/>\n",
              "  </svg>\n",
              "      </button>\n",
              "      \n",
              "  <style>\n",
              "    .colab-df-container {\n",
              "      display:flex;\n",
              "      flex-wrap:wrap;\n",
              "      gap: 12px;\n",
              "    }\n",
              "\n",
              "    .colab-df-convert {\n",
              "      background-color: #E8F0FE;\n",
              "      border: none;\n",
              "      border-radius: 50%;\n",
              "      cursor: pointer;\n",
              "      display: none;\n",
              "      fill: #1967D2;\n",
              "      height: 32px;\n",
              "      padding: 0 0 0 0;\n",
              "      width: 32px;\n",
              "    }\n",
              "\n",
              "    .colab-df-convert:hover {\n",
              "      background-color: #E2EBFA;\n",
              "      box-shadow: 0px 1px 2px rgba(60, 64, 67, 0.3), 0px 1px 3px 1px rgba(60, 64, 67, 0.15);\n",
              "      fill: #174EA6;\n",
              "    }\n",
              "\n",
              "    [theme=dark] .colab-df-convert {\n",
              "      background-color: #3B4455;\n",
              "      fill: #D2E3FC;\n",
              "    }\n",
              "\n",
              "    [theme=dark] .colab-df-convert:hover {\n",
              "      background-color: #434B5C;\n",
              "      box-shadow: 0px 1px 3px 1px rgba(0, 0, 0, 0.15);\n",
              "      filter: drop-shadow(0px 1px 2px rgba(0, 0, 0, 0.3));\n",
              "      fill: #FFFFFF;\n",
              "    }\n",
              "  </style>\n",
              "\n",
              "      <script>\n",
              "        const buttonEl =\n",
              "          document.querySelector('#df-ac55ec23-b0a5-4ae2-913f-76b95c5ecdf2 button.colab-df-convert');\n",
              "        buttonEl.style.display =\n",
              "          google.colab.kernel.accessAllowed ? 'block' : 'none';\n",
              "\n",
              "        async function convertToInteractive(key) {\n",
              "          const element = document.querySelector('#df-ac55ec23-b0a5-4ae2-913f-76b95c5ecdf2');\n",
              "          const dataTable =\n",
              "            await google.colab.kernel.invokeFunction('convertToInteractive',\n",
              "                                                     [key], {});\n",
              "          if (!dataTable) return;\n",
              "\n",
              "          const docLinkHtml = 'Like what you see? Visit the ' +\n",
              "            '<a target=\"_blank\" href=https://colab.research.google.com/notebooks/data_table.ipynb>data table notebook</a>'\n",
              "            + ' to learn more about interactive tables.';\n",
              "          element.innerHTML = '';\n",
              "          dataTable['output_type'] = 'display_data';\n",
              "          await google.colab.output.renderOutput(dataTable, element);\n",
              "          const docLink = document.createElement('div');\n",
              "          docLink.innerHTML = docLinkHtml;\n",
              "          element.appendChild(docLink);\n",
              "        }\n",
              "      </script>\n",
              "    </div>\n",
              "  </div>\n",
              "  "
            ]
          },
          "metadata": {},
          "execution_count": 51
        }
      ],
      "source": [
        "train_labeled_studies = pd.read_csv(\n",
        "    os.path.join(DATASET_DIR, \"train_labeled_studies.csv\"), #\"train_labeled_studies.csv\"\n",
        "    names=[\"study_path\", \"label\"],\n",
        "    header=None,\n",
        "    index_col=False,\n",
        ")\n",
        "\n",
        "inspect_df(train_labeled_studies)"
      ],
      "id": "59cf2544"
    },
    {
      "cell_type": "code",
      "execution_count": null,
      "metadata": {
        "id": "df9a7f5d"
      },
      "outputs": [],
      "source": [
        "train_labeled_studies[\"study_path\"] = train_labeled_studies[\"study_path\"].map(\n",
        "    lambda x: os.path.join(\"/content/\", x)\n",
        ")\n",
        "train_labeled_studies[\"label\"] = train_labeled_studies[\"label\"].map(str)"
      ],
      "id": "df9a7f5d"
    },
    {
      "cell_type": "code",
      "execution_count": null,
      "metadata": {
        "colab": {
          "base_uri": "https://localhost:8080/"
        },
        "id": "408b169b",
        "outputId": "9139803d-c49d-44d8-e633-9e0b4ba811cd",
        "scrolled": false
      },
      "outputs": [
        {
          "output_type": "stream",
          "name": "stdout",
          "text": [
            "shape: (13457, 2)\n"
          ]
        },
        {
          "output_type": "execute_result",
          "data": {
            "text/plain": [
              "                                                           study_path label\n",
              "0  /content/MURA-v1.1/train/XR_SHOULDER/patient00001/study1_positive/     1\n",
              "1  /content/MURA-v1.1/train/XR_SHOULDER/patient00002/study1_positive/     1\n",
              "2  /content/MURA-v1.1/train/XR_SHOULDER/patient00003/study1_positive/     1\n",
              "3  /content/MURA-v1.1/train/XR_SHOULDER/patient00004/study1_positive/     1\n",
              "4  /content/MURA-v1.1/train/XR_SHOULDER/patient00005/study1_positive/     1"
            ],
            "text/html": [
              "\n",
              "  <div id=\"df-52e7a57b-ad16-4631-9ecf-1dfe6225a88f\">\n",
              "    <div class=\"colab-df-container\">\n",
              "      <div>\n",
              "<style scoped>\n",
              "    .dataframe tbody tr th:only-of-type {\n",
              "        vertical-align: middle;\n",
              "    }\n",
              "\n",
              "    .dataframe tbody tr th {\n",
              "        vertical-align: top;\n",
              "    }\n",
              "\n",
              "    .dataframe thead th {\n",
              "        text-align: right;\n",
              "    }\n",
              "</style>\n",
              "<table border=\"1\" class=\"dataframe\">\n",
              "  <thead>\n",
              "    <tr style=\"text-align: right;\">\n",
              "      <th></th>\n",
              "      <th>study_path</th>\n",
              "      <th>label</th>\n",
              "    </tr>\n",
              "  </thead>\n",
              "  <tbody>\n",
              "    <tr>\n",
              "      <th>0</th>\n",
              "      <td>/content/MURA-v1.1/train/XR_SHOULDER/patient00001/study1_positive/</td>\n",
              "      <td>1</td>\n",
              "    </tr>\n",
              "    <tr>\n",
              "      <th>1</th>\n",
              "      <td>/content/MURA-v1.1/train/XR_SHOULDER/patient00002/study1_positive/</td>\n",
              "      <td>1</td>\n",
              "    </tr>\n",
              "    <tr>\n",
              "      <th>2</th>\n",
              "      <td>/content/MURA-v1.1/train/XR_SHOULDER/patient00003/study1_positive/</td>\n",
              "      <td>1</td>\n",
              "    </tr>\n",
              "    <tr>\n",
              "      <th>3</th>\n",
              "      <td>/content/MURA-v1.1/train/XR_SHOULDER/patient00004/study1_positive/</td>\n",
              "      <td>1</td>\n",
              "    </tr>\n",
              "    <tr>\n",
              "      <th>4</th>\n",
              "      <td>/content/MURA-v1.1/train/XR_SHOULDER/patient00005/study1_positive/</td>\n",
              "      <td>1</td>\n",
              "    </tr>\n",
              "  </tbody>\n",
              "</table>\n",
              "</div>\n",
              "      <button class=\"colab-df-convert\" onclick=\"convertToInteractive('df-52e7a57b-ad16-4631-9ecf-1dfe6225a88f')\"\n",
              "              title=\"Convert this dataframe to an interactive table.\"\n",
              "              style=\"display:none;\">\n",
              "        \n",
              "  <svg xmlns=\"http://www.w3.org/2000/svg\" height=\"24px\"viewBox=\"0 0 24 24\"\n",
              "       width=\"24px\">\n",
              "    <path d=\"M0 0h24v24H0V0z\" fill=\"none\"/>\n",
              "    <path d=\"M18.56 5.44l.94 2.06.94-2.06 2.06-.94-2.06-.94-.94-2.06-.94 2.06-2.06.94zm-11 1L8.5 8.5l.94-2.06 2.06-.94-2.06-.94L8.5 2.5l-.94 2.06-2.06.94zm10 10l.94 2.06.94-2.06 2.06-.94-2.06-.94-.94-2.06-.94 2.06-2.06.94z\"/><path d=\"M17.41 7.96l-1.37-1.37c-.4-.4-.92-.59-1.43-.59-.52 0-1.04.2-1.43.59L10.3 9.45l-7.72 7.72c-.78.78-.78 2.05 0 2.83L4 21.41c.39.39.9.59 1.41.59.51 0 1.02-.2 1.41-.59l7.78-7.78 2.81-2.81c.8-.78.8-2.07 0-2.86zM5.41 20L4 18.59l7.72-7.72 1.47 1.35L5.41 20z\"/>\n",
              "  </svg>\n",
              "      </button>\n",
              "      \n",
              "  <style>\n",
              "    .colab-df-container {\n",
              "      display:flex;\n",
              "      flex-wrap:wrap;\n",
              "      gap: 12px;\n",
              "    }\n",
              "\n",
              "    .colab-df-convert {\n",
              "      background-color: #E8F0FE;\n",
              "      border: none;\n",
              "      border-radius: 50%;\n",
              "      cursor: pointer;\n",
              "      display: none;\n",
              "      fill: #1967D2;\n",
              "      height: 32px;\n",
              "      padding: 0 0 0 0;\n",
              "      width: 32px;\n",
              "    }\n",
              "\n",
              "    .colab-df-convert:hover {\n",
              "      background-color: #E2EBFA;\n",
              "      box-shadow: 0px 1px 2px rgba(60, 64, 67, 0.3), 0px 1px 3px 1px rgba(60, 64, 67, 0.15);\n",
              "      fill: #174EA6;\n",
              "    }\n",
              "\n",
              "    [theme=dark] .colab-df-convert {\n",
              "      background-color: #3B4455;\n",
              "      fill: #D2E3FC;\n",
              "    }\n",
              "\n",
              "    [theme=dark] .colab-df-convert:hover {\n",
              "      background-color: #434B5C;\n",
              "      box-shadow: 0px 1px 3px 1px rgba(0, 0, 0, 0.15);\n",
              "      filter: drop-shadow(0px 1px 2px rgba(0, 0, 0, 0.3));\n",
              "      fill: #FFFFFF;\n",
              "    }\n",
              "  </style>\n",
              "\n",
              "      <script>\n",
              "        const buttonEl =\n",
              "          document.querySelector('#df-52e7a57b-ad16-4631-9ecf-1dfe6225a88f button.colab-df-convert');\n",
              "        buttonEl.style.display =\n",
              "          google.colab.kernel.accessAllowed ? 'block' : 'none';\n",
              "\n",
              "        async function convertToInteractive(key) {\n",
              "          const element = document.querySelector('#df-52e7a57b-ad16-4631-9ecf-1dfe6225a88f');\n",
              "          const dataTable =\n",
              "            await google.colab.kernel.invokeFunction('convertToInteractive',\n",
              "                                                     [key], {});\n",
              "          if (!dataTable) return;\n",
              "\n",
              "          const docLinkHtml = 'Like what you see? Visit the ' +\n",
              "            '<a target=\"_blank\" href=https://colab.research.google.com/notebooks/data_table.ipynb>data table notebook</a>'\n",
              "            + ' to learn more about interactive tables.';\n",
              "          element.innerHTML = '';\n",
              "          dataTable['output_type'] = 'display_data';\n",
              "          await google.colab.output.renderOutput(dataTable, element);\n",
              "          const docLink = document.createElement('div');\n",
              "          docLink.innerHTML = docLinkHtml;\n",
              "          element.appendChild(docLink);\n",
              "        }\n",
              "      </script>\n",
              "    </div>\n",
              "  </div>\n",
              "  "
            ]
          },
          "metadata": {},
          "execution_count": 53
        }
      ],
      "source": [
        "inspect_df(train_labeled_studies)"
      ],
      "id": "408b169b"
    },
    {
      "cell_type": "code",
      "execution_count": null,
      "metadata": {
        "colab": {
          "base_uri": "https://localhost:8080/"
        },
        "id": "98c49b41",
        "outputId": "6883fa4f-4a48-47ef-e9fb-20904f6a0eed",
        "scrolled": true
      },
      "outputs": [
        {
          "output_type": "stream",
          "name": "stdout",
          "text": [
            "shape: (36808, 6)\n"
          ]
        },
        {
          "output_type": "execute_result",
          "data": {
            "text/plain": [
              "                                                                     image_path  \\\n",
              "0  /content/MURA-v1.1/train/XR_SHOULDER/patient00001/study1_positive/image1.png   \n",
              "1  /content/MURA-v1.1/train/XR_SHOULDER/patient00001/study1_positive/image2.png   \n",
              "2  /content/MURA-v1.1/train/XR_SHOULDER/patient00001/study1_positive/image3.png   \n",
              "3  /content/MURA-v1.1/train/XR_SHOULDER/patient00002/study1_positive/image1.png   \n",
              "4  /content/MURA-v1.1/train/XR_SHOULDER/patient00002/study1_positive/image2.png   \n",
              "\n",
              "    study_type       patient            study  \\\n",
              "0  XR_SHOULDER  patient00001  study1_positive   \n",
              "1  XR_SHOULDER  patient00001  study1_positive   \n",
              "2  XR_SHOULDER  patient00001  study1_positive   \n",
              "3  XR_SHOULDER  patient00002  study1_positive   \n",
              "4  XR_SHOULDER  patient00002  study1_positive   \n",
              "\n",
              "                                                           study_path label  \n",
              "0  /content/MURA-v1.1/train/XR_SHOULDER/patient00001/study1_positive/     1  \n",
              "1  /content/MURA-v1.1/train/XR_SHOULDER/patient00001/study1_positive/     1  \n",
              "2  /content/MURA-v1.1/train/XR_SHOULDER/patient00001/study1_positive/     1  \n",
              "3  /content/MURA-v1.1/train/XR_SHOULDER/patient00002/study1_positive/     1  \n",
              "4  /content/MURA-v1.1/train/XR_SHOULDER/patient00002/study1_positive/     1  "
            ],
            "text/html": [
              "\n",
              "  <div id=\"df-67be8776-13a9-49e2-be35-3d0db5f4a3fe\">\n",
              "    <div class=\"colab-df-container\">\n",
              "      <div>\n",
              "<style scoped>\n",
              "    .dataframe tbody tr th:only-of-type {\n",
              "        vertical-align: middle;\n",
              "    }\n",
              "\n",
              "    .dataframe tbody tr th {\n",
              "        vertical-align: top;\n",
              "    }\n",
              "\n",
              "    .dataframe thead th {\n",
              "        text-align: right;\n",
              "    }\n",
              "</style>\n",
              "<table border=\"1\" class=\"dataframe\">\n",
              "  <thead>\n",
              "    <tr style=\"text-align: right;\">\n",
              "      <th></th>\n",
              "      <th>image_path</th>\n",
              "      <th>study_type</th>\n",
              "      <th>patient</th>\n",
              "      <th>study</th>\n",
              "      <th>study_path</th>\n",
              "      <th>label</th>\n",
              "    </tr>\n",
              "  </thead>\n",
              "  <tbody>\n",
              "    <tr>\n",
              "      <th>0</th>\n",
              "      <td>/content/MURA-v1.1/train/XR_SHOULDER/patient00001/study1_positive/image1.png</td>\n",
              "      <td>XR_SHOULDER</td>\n",
              "      <td>patient00001</td>\n",
              "      <td>study1_positive</td>\n",
              "      <td>/content/MURA-v1.1/train/XR_SHOULDER/patient00001/study1_positive/</td>\n",
              "      <td>1</td>\n",
              "    </tr>\n",
              "    <tr>\n",
              "      <th>1</th>\n",
              "      <td>/content/MURA-v1.1/train/XR_SHOULDER/patient00001/study1_positive/image2.png</td>\n",
              "      <td>XR_SHOULDER</td>\n",
              "      <td>patient00001</td>\n",
              "      <td>study1_positive</td>\n",
              "      <td>/content/MURA-v1.1/train/XR_SHOULDER/patient00001/study1_positive/</td>\n",
              "      <td>1</td>\n",
              "    </tr>\n",
              "    <tr>\n",
              "      <th>2</th>\n",
              "      <td>/content/MURA-v1.1/train/XR_SHOULDER/patient00001/study1_positive/image3.png</td>\n",
              "      <td>XR_SHOULDER</td>\n",
              "      <td>patient00001</td>\n",
              "      <td>study1_positive</td>\n",
              "      <td>/content/MURA-v1.1/train/XR_SHOULDER/patient00001/study1_positive/</td>\n",
              "      <td>1</td>\n",
              "    </tr>\n",
              "    <tr>\n",
              "      <th>3</th>\n",
              "      <td>/content/MURA-v1.1/train/XR_SHOULDER/patient00002/study1_positive/image1.png</td>\n",
              "      <td>XR_SHOULDER</td>\n",
              "      <td>patient00002</td>\n",
              "      <td>study1_positive</td>\n",
              "      <td>/content/MURA-v1.1/train/XR_SHOULDER/patient00002/study1_positive/</td>\n",
              "      <td>1</td>\n",
              "    </tr>\n",
              "    <tr>\n",
              "      <th>4</th>\n",
              "      <td>/content/MURA-v1.1/train/XR_SHOULDER/patient00002/study1_positive/image2.png</td>\n",
              "      <td>XR_SHOULDER</td>\n",
              "      <td>patient00002</td>\n",
              "      <td>study1_positive</td>\n",
              "      <td>/content/MURA-v1.1/train/XR_SHOULDER/patient00002/study1_positive/</td>\n",
              "      <td>1</td>\n",
              "    </tr>\n",
              "  </tbody>\n",
              "</table>\n",
              "</div>\n",
              "      <button class=\"colab-df-convert\" onclick=\"convertToInteractive('df-67be8776-13a9-49e2-be35-3d0db5f4a3fe')\"\n",
              "              title=\"Convert this dataframe to an interactive table.\"\n",
              "              style=\"display:none;\">\n",
              "        \n",
              "  <svg xmlns=\"http://www.w3.org/2000/svg\" height=\"24px\"viewBox=\"0 0 24 24\"\n",
              "       width=\"24px\">\n",
              "    <path d=\"M0 0h24v24H0V0z\" fill=\"none\"/>\n",
              "    <path d=\"M18.56 5.44l.94 2.06.94-2.06 2.06-.94-2.06-.94-.94-2.06-.94 2.06-2.06.94zm-11 1L8.5 8.5l.94-2.06 2.06-.94-2.06-.94L8.5 2.5l-.94 2.06-2.06.94zm10 10l.94 2.06.94-2.06 2.06-.94-2.06-.94-.94-2.06-.94 2.06-2.06.94z\"/><path d=\"M17.41 7.96l-1.37-1.37c-.4-.4-.92-.59-1.43-.59-.52 0-1.04.2-1.43.59L10.3 9.45l-7.72 7.72c-.78.78-.78 2.05 0 2.83L4 21.41c.39.39.9.59 1.41.59.51 0 1.02-.2 1.41-.59l7.78-7.78 2.81-2.81c.8-.78.8-2.07 0-2.86zM5.41 20L4 18.59l7.72-7.72 1.47 1.35L5.41 20z\"/>\n",
              "  </svg>\n",
              "      </button>\n",
              "      \n",
              "  <style>\n",
              "    .colab-df-container {\n",
              "      display:flex;\n",
              "      flex-wrap:wrap;\n",
              "      gap: 12px;\n",
              "    }\n",
              "\n",
              "    .colab-df-convert {\n",
              "      background-color: #E8F0FE;\n",
              "      border: none;\n",
              "      border-radius: 50%;\n",
              "      cursor: pointer;\n",
              "      display: none;\n",
              "      fill: #1967D2;\n",
              "      height: 32px;\n",
              "      padding: 0 0 0 0;\n",
              "      width: 32px;\n",
              "    }\n",
              "\n",
              "    .colab-df-convert:hover {\n",
              "      background-color: #E2EBFA;\n",
              "      box-shadow: 0px 1px 2px rgba(60, 64, 67, 0.3), 0px 1px 3px 1px rgba(60, 64, 67, 0.15);\n",
              "      fill: #174EA6;\n",
              "    }\n",
              "\n",
              "    [theme=dark] .colab-df-convert {\n",
              "      background-color: #3B4455;\n",
              "      fill: #D2E3FC;\n",
              "    }\n",
              "\n",
              "    [theme=dark] .colab-df-convert:hover {\n",
              "      background-color: #434B5C;\n",
              "      box-shadow: 0px 1px 3px 1px rgba(0, 0, 0, 0.15);\n",
              "      filter: drop-shadow(0px 1px 2px rgba(0, 0, 0, 0.3));\n",
              "      fill: #FFFFFF;\n",
              "    }\n",
              "  </style>\n",
              "\n",
              "      <script>\n",
              "        const buttonEl =\n",
              "          document.querySelector('#df-67be8776-13a9-49e2-be35-3d0db5f4a3fe button.colab-df-convert');\n",
              "        buttonEl.style.display =\n",
              "          google.colab.kernel.accessAllowed ? 'block' : 'none';\n",
              "\n",
              "        async function convertToInteractive(key) {\n",
              "          const element = document.querySelector('#df-67be8776-13a9-49e2-be35-3d0db5f4a3fe');\n",
              "          const dataTable =\n",
              "            await google.colab.kernel.invokeFunction('convertToInteractive',\n",
              "                                                     [key], {});\n",
              "          if (!dataTable) return;\n",
              "\n",
              "          const docLinkHtml = 'Like what you see? Visit the ' +\n",
              "            '<a target=\"_blank\" href=https://colab.research.google.com/notebooks/data_table.ipynb>data table notebook</a>'\n",
              "            + ' to learn more about interactive tables.';\n",
              "          element.innerHTML = '';\n",
              "          dataTable['output_type'] = 'display_data';\n",
              "          await google.colab.output.renderOutput(dataTable, element);\n",
              "          const docLink = document.createElement('div');\n",
              "          docLink.innerHTML = docLinkHtml;\n",
              "          element.appendChild(docLink);\n",
              "        }\n",
              "      </script>\n",
              "    </div>\n",
              "  </div>\n",
              "  "
            ]
          },
          "metadata": {},
          "execution_count": 54
        }
      ],
      "source": [
        "ref_trainset = pd.merge(\n",
        "    train_image_paths, train_labeled_studies, how=\"inner\", on=\"study_path\"\n",
        ")\n",
        "\n",
        "inspect_df(ref_trainset)"
      ],
      "id": "98c49b41"
    },
    {
      "cell_type": "markdown",
      "metadata": {
        "id": "41eafe23"
      },
      "source": [
        "#### Create a tensorflow input pipeline for the training data"
      ],
      "id": "41eafe23"
    },
    {
      "cell_type": "code",
      "execution_count": null,
      "metadata": {
        "id": "QoNjI7YBWBoh"
      },
      "outputs": [],
      "source": [
        "ref_trainset=ref_trainset[ref_trainset['study_type']=='XR_WRIST']\n",
        "\n",
        "#loaistudy=['XR_ELBOW','XR_FINGER','XR_FOREARM','XR_HAND','XR_HUMERUS','XR_SHOULDER','XR_WRIST']\n"
      ],
      "id": "QoNjI7YBWBoh"
    },
    {
      "cell_type": "code",
      "execution_count": null,
      "metadata": {
        "id": "19f477b2"
      },
      "outputs": [],
      "source": [
        "IMAGE_WIDTH = IMAGE_HEIGHT = 224\n",
        "BATCH_SIZE = 8\n",
        "#chỉnh lại learning rate\n",
        "#We used an initial learning rate of 0.0001 that is decayed by a factor of 10 \n",
        "#each time the validation loss plateaus after an epoch.\n",
        "# thử giảm alpha sau 1 epoch"
      ],
      "id": "19f477b2"
    },
    {
      "cell_type": "markdown",
      "metadata": {
        "id": "135b50bf"
      },
      "source": [
        "Since image directory follows a specific ontological structure (7 upper extremities aka study types) we will shuffle the training dataset beforehand in order to ensure that the validation set will be representable of all study types. \n",
        "\n",
        "This is due to the fact that tf.keras `tf.keras.preprocessing.image.ImageDataGenerator` first performs the train-val split and then shuffles per epoch by default."
      ],
      "id": "135b50bf"
    },
    {
      "cell_type": "code",
      "execution_count": null,
      "metadata": {
        "id": "ecdf24d7"
      },
      "outputs": [],
      "source": [
        "ref_trainset = shuffle(ref_trainset, random_state=SEED)"
      ],
      "id": "ecdf24d7"
    },
    {
      "cell_type": "code",
      "execution_count": null,
      "metadata": {
        "id": "c8637a1c"
      },
      "outputs": [],
      "source": [
        "training = tf.keras.preprocessing.image.ImageDataGenerator(\n",
        "    rotation_range=30,\n",
        "    horizontal_flip=True,\n",
        "    fill_mode=\"constant\", #thêm viền nếu cần\n",
        "    cval=0.0,              # viền =0\n",
        "    validation_split=0.1, #0.2\n",
        "    preprocessing_function=tf.keras.applications.mobilenet_v2.preprocess_input,\n",
        "    #rescale=1./255,\n",
        "    \n",
        ")"
      ],
      "id": "c8637a1c"
    },
    {
      "cell_type": "code",
      "execution_count": null,
      "metadata": {
        "colab": {
          "base_uri": "https://localhost:8080/"
        },
        "id": "21f38eee",
        "outputId": "f1ca05d0-b6e2-4e8b-85fc-c6cb022b5243"
      },
      "outputs": [
        {
          "output_type": "stream",
          "name": "stdout",
          "text": [
            "Found 8777 validated image filenames belonging to 2 classes.\n"
          ]
        }
      ],
      "source": [
        "trainset = training.flow_from_dataframe(\n",
        "    dataframe=ref_trainset,\n",
        "    x_col=\"image_path\",\n",
        "    y_col=\"label\",\n",
        "    target_size=(IMAGE_WIDTH, IMAGE_HEIGHT),\n",
        "    class_mode=\"binary\",\n",
        "    batch_size=BATCH_SIZE,\n",
        "    seed=SEED,\n",
        "    shuffle=True,\n",
        "    subset=\"training\",\n",
        "    #color_mode=\"grayscale\",\n",
        ")"
      ],
      "id": "21f38eee"
    },
    {
      "cell_type": "code",
      "execution_count": null,
      "metadata": {
        "colab": {
          "base_uri": "https://localhost:8080/"
        },
        "id": "3d3baff1",
        "outputId": "a2193b63-5e04-4729-9c02-7717d1ae9efb"
      },
      "outputs": [
        {
          "output_type": "stream",
          "name": "stdout",
          "text": [
            "Found 975 validated image filenames belonging to 2 classes.\n"
          ]
        }
      ],
      "source": [
        "validationset = training.flow_from_dataframe(\n",
        "    dataframe=ref_trainset,\n",
        "    x_col=\"image_path\",\n",
        "    y_col=\"label\",\n",
        "    target_size=(IMAGE_WIDTH, IMAGE_HEIGHT),\n",
        "    class_mode=\"binary\",\n",
        "    batch_size=BATCH_SIZE,\n",
        "    seed=SEED,\n",
        "    shuffle=False,\n",
        "    subset=\"validation\",\n",
        "    #color_mode=\"grayscale\",\n",
        ")"
      ],
      "id": "3d3baff1"
    },
    {
      "cell_type": "markdown",
      "metadata": {
        "id": "92e2665b"
      },
      "source": [
        "### mobilenet architecture, pretrained on ImageNet"
      ],
      "id": "92e2665b"
    },
    {
      "cell_type": "code",
      "execution_count": null,
      "metadata": {
        "id": "4e3a6125"
      },
      "outputs": [],
      "source": [
        "METRICS = [\n",
        "    tf.keras.metrics.TruePositives(name=\"tp\"),\n",
        "    tf.keras.metrics.FalsePositives(name=\"fp\"),\n",
        "    tf.keras.metrics.TrueNegatives(name=\"tn\"),\n",
        "    tf.keras.metrics.FalseNegatives(name=\"fn\"),\n",
        "    tf.keras.metrics.BinaryAccuracy(name=\"binary_acc\"),\n",
        "    tf.keras.metrics.Precision(name=\"precision\"),\n",
        "    tf.keras.metrics.Recall(name=\"recall\"),\n",
        "    F1Score(name=\"f1_score\"),\n",
        "    tf.keras.metrics.AUC(name=\"roc_auc\", curve=\"ROC\"),\n",
        "    tf.keras.metrics.AUC(name=\"pr_auc\", curve=\"PR\"),\n",
        "    tfa.metrics.CohenKappa(name=\"cohen_kappa\", num_classes=2),\n",
        "]"
      ],
      "id": "4e3a6125"
    },
    {
      "cell_type": "code",
      "source": [
        "# load model\n",
        "duongdan='/content/gdrive/MyDrive/mobilenet_imagenet-360-all-study(date 14.8)-2259265.h5'\n",
        "model = tf.keras.models.load_model(duongdan,custom_objects={'F1Score': F1Score})\n",
        "\n",
        "'''model = tf.keras.models.load_model(\n",
        "     '/content/gdrive/MyDrive/densenet169_pt_imagenet-all-study-types-12644545.h5',\n",
        "     custom_objects={'F1Score': F1Score}\n",
        " )\n",
        "densenet = tf.keras.models.load_model(\n",
        "     '/content/gdrive/MyDrive/densenet169_base.h5',)'''\n"
      ],
      "metadata": {
        "colab": {
          "base_uri": "https://localhost:8080/",
          "height": 53
        },
        "id": "jNo0coTTDuw_",
        "outputId": "365f5b2a-5586-4ea8-a8f0-30de784c4c39"
      },
      "id": "jNo0coTTDuw_",
      "execution_count": null,
      "outputs": [
        {
          "output_type": "execute_result",
          "data": {
            "text/plain": [
              "\"model = tf.keras.models.load_model(\\n     '/content/gdrive/MyDrive/densenet169_pt_imagenet-all-study-types-12644545.h5',\\n     custom_objects={'F1Score': F1Score}\\n )\\ndensenet = tf.keras.models.load_model(\\n     '/content/gdrive/MyDrive/densenet169_base.h5',)\""
            ],
            "application/vnd.google.colaboratory.intrinsic+json": {
              "type": "string"
            }
          },
          "metadata": {},
          "execution_count": 62
        }
      ]
    },
    {
      "cell_type": "code",
      "source": [
        "model.get_layer('mobilenetv2_1.00_224').trainable = False"
      ],
      "metadata": {
        "id": "tKN7jE_PLDcC"
      },
      "id": "tKN7jE_PLDcC",
      "execution_count": null,
      "outputs": []
    },
    {
      "cell_type": "code",
      "source": [
        "model.compile(\n",
        "        optimizer=tf.keras.optimizers.Adam(learning_rate=0.0001),\n",
        "        loss=tf.keras.losses.BinaryCrossentropy(),\n",
        "        metrics=METRICS,\n",
        "    )"
      ],
      "metadata": {
        "id": "nR_HZRhRM8D6"
      },
      "id": "nR_HZRhRM8D6",
      "execution_count": null,
      "outputs": []
    },
    {
      "cell_type": "code",
      "source": [
        "model.summary()"
      ],
      "metadata": {
        "colab": {
          "base_uri": "https://localhost:8080/"
        },
        "id": "-a3Gp8k4KuhM",
        "outputId": "14e4b1ae-cea0-4c40-ac14-b90b95558e4a"
      },
      "id": "-a3Gp8k4KuhM",
      "execution_count": null,
      "outputs": [
        {
          "output_type": "stream",
          "name": "stdout",
          "text": [
            "Model: \"model\"\n",
            "_________________________________________________________________\n",
            " Layer (type)                Output Shape              Param #   \n",
            "=================================================================\n",
            " input_2 (InputLayer)        [(None, 224, 224, 3)]     0         \n",
            "                                                                 \n",
            " mobilenetv2_1.00_224 (Funct  (None, 1280)             2257984   \n",
            " ional)                                                          \n",
            "                                                                 \n",
            " dropout (Dropout)           (None, 1280)              0         \n",
            "                                                                 \n",
            " dense (Dense)               (None, 1)                 1281      \n",
            "                                                                 \n",
            "=================================================================\n",
            "Total params: 2,259,265\n",
            "Trainable params: 1,281\n",
            "Non-trainable params: 2,257,984\n",
            "_________________________________________________________________\n"
          ]
        }
      ]
    },
    {
      "cell_type": "code",
      "source": [
        "# Import\n",
        "#import numpy as np\n",
        "from sklearn.utils import class_weight\n",
        "\n",
        "# Example model\n",
        "#model = Sequential()\n",
        "#model.add(Dense(32, activation='relu', input_dim=100))\n",
        "#model.add(Dense(1, activation='sigmoid'))\n",
        "\n",
        "# Use binary crossentropy loss\n",
        "#model.compile(optimizer='rmsprop',\n",
        "#              loss='binary_crossentropy',\n",
        "#              metrics=['accuracy'])\n",
        "\n",
        "# Calculate the weights for each class so that we can balance the data\n",
        "y_train= ref_trainset['label'] # k đúng lắm\n",
        "\n",
        "weights = class_weight.compute_class_weight(\n",
        "                                        class_weight = \"balanced\",\n",
        "                                        classes = np.unique(y_train),\n",
        "                                        y = y_train                                                    \n",
        "                                    )\n",
        "# Add the class weights to the training                                         \n",
        "# model.fit(x_train, y_train, epochs=10, batch_size=32, class_weight=weights)"
      ],
      "metadata": {
        "id": "cJyvGXHV4JEL"
      },
      "id": "cJyvGXHV4JEL",
      "execution_count": null,
      "outputs": []
    },
    {
      "cell_type": "code",
      "source": [
        "weights "
      ],
      "metadata": {
        "colab": {
          "base_uri": "https://localhost:8080/"
        },
        "id": "p-ifETzJ4piF",
        "outputId": "65f6714c-4483-44cb-9355-1a6cdb95f129"
      },
      "id": "p-ifETzJ4piF",
      "execution_count": null,
      "outputs": [
        {
          "output_type": "execute_result",
          "data": {
            "text/plain": [
              "array([0.84579358, 1.22297467])"
            ]
          },
          "metadata": {},
          "execution_count": 67
        }
      ]
    },
    {
      "cell_type": "code",
      "execution_count": null,
      "metadata": {
        "id": "7t2FAgZxfZAX"
      },
      "outputs": [],
      "source": [
        "clas_weights= {0:0.84579358,1:1.22297467}"
      ],
      "id": "7t2FAgZxfZAX"
    },
    {
      "cell_type": "code",
      "execution_count": null,
      "metadata": {
        "id": "4213d77b"
      },
      "outputs": [],
      "source": [
        "early_stopping = tf.keras.callbacks.EarlyStopping(\n",
        "    monitor=\"val_loss\", # thông số giám sát val_loss\n",
        "    verbose=1, #hiển thị tiến trình [==============================]\n",
        "    patience=3, #số epochs không cải thiện\n",
        "    mode=\"min\", # max k tăng được nữa, min k giảm được nữa, auto\n",
        "    baseline=None, #=0.0 lỗi\n",
        "    restore_best_weights=True,\n",
        ")"
      ],
      "id": "4213d77b"
    },
    {
      "cell_type": "code",
      "execution_count": null,
      "metadata": {
        "colab": {
          "base_uri": "https://localhost:8080/"
        },
        "id": "aa319ec8",
        "scrolled": false,
        "outputId": "861df2f1-1036-4988-8632-754b10835af6"
      },
      "outputs": [
        {
          "output_type": "stream",
          "name": "stdout",
          "text": [
            "Epoch 1/100\n",
            "1098/1098 [==============================] - 266s 238ms/step - loss: 0.3261 - tp: 2906.0000 - fp: 448.0000 - tn: 4723.0000 - fn: 700.0000 - binary_acc: 0.8692 - precision: 0.8664 - recall: 0.8059 - f1_score: 0.8351 - roc_auc: 0.9275 - pr_auc: 0.9225 - cohen_kappa: 0.7269 - val_loss: 0.3152 - val_tp: 310.0000 - val_fp: 45.0000 - val_tn: 549.0000 - val_fn: 71.0000 - val_binary_acc: 0.8810 - val_precision: 0.8732 - val_recall: 0.8136 - val_f1_score: 0.8424 - val_roc_auc: 0.9289 - val_pr_auc: 0.9191 - val_cohen_kappa: 0.7470\n",
            "Epoch 2/100\n",
            "1098/1098 [==============================] - 245s 223ms/step - loss: 0.3206 - tp: 2917.0000 - fp: 445.0000 - tn: 4726.0000 - fn: 689.0000 - binary_acc: 0.8708 - precision: 0.8676 - recall: 0.8089 - f1_score: 0.8373 - roc_auc: 0.9314 - pr_auc: 0.9246 - cohen_kappa: 0.7304 - val_loss: 0.3200 - val_tp: 300.0000 - val_fp: 45.0000 - val_tn: 549.0000 - val_fn: 81.0000 - val_binary_acc: 0.8708 - val_precision: 0.8696 - val_recall: 0.7874 - val_f1_score: 0.8264 - val_roc_auc: 0.9276 - val_pr_auc: 0.9157 - val_cohen_kappa: 0.7239\n",
            "Epoch 3/100\n",
            "1098/1098 [==============================] - 243s 221ms/step - loss: 0.3254 - tp: 2906.0000 - fp: 465.0000 - tn: 4706.0000 - fn: 700.0000 - binary_acc: 0.8673 - precision: 0.8621 - recall: 0.8059 - f1_score: 0.8330 - roc_auc: 0.9288 - pr_auc: 0.9221 - cohen_kappa: 0.7231 - val_loss: 0.3241 - val_tp: 315.0000 - val_fp: 57.0000 - val_tn: 537.0000 - val_fn: 66.0000 - val_binary_acc: 0.8738 - val_precision: 0.8468 - val_recall: 0.8268 - val_f1_score: 0.8367 - val_roc_auc: 0.9268 - val_pr_auc: 0.9165 - val_cohen_kappa: 0.7339\n",
            "Epoch 4/100\n",
            "1098/1098 [==============================] - ETA: 0s - loss: 0.3193 - tp: 2929.0000 - fp: 439.0000 - tn: 4732.0000 - fn: 677.0000 - binary_acc: 0.8728 - precision: 0.8697 - recall: 0.8123 - f1_score: 0.8400 - roc_auc: 0.9318 - pr_auc: 0.9237 - cohen_kappa: 0.7347Restoring model weights from the end of the best epoch: 1.\n",
            "1098/1098 [==============================] - 244s 223ms/step - loss: 0.3193 - tp: 2929.0000 - fp: 439.0000 - tn: 4732.0000 - fn: 677.0000 - binary_acc: 0.8728 - precision: 0.8697 - recall: 0.8123 - f1_score: 0.8400 - roc_auc: 0.9318 - pr_auc: 0.9237 - cohen_kappa: 0.7347 - val_loss: 0.3181 - val_tp: 314.0000 - val_fp: 52.0000 - val_tn: 542.0000 - val_fn: 67.0000 - val_binary_acc: 0.8779 - val_precision: 0.8579 - val_recall: 0.8241 - val_f1_score: 0.8407 - val_roc_auc: 0.9290 - val_pr_auc: 0.9201 - val_cohen_kappa: 0.7418\n",
            "Epoch 4: early stopping\n"
          ]
        }
      ],
      "source": [
        "history = model.fit(\n",
        "    trainset,\n",
        "    epochs=100,\n",
        "    validation_data=validationset,\n",
        "    callbacks=[early_stopping],\n",
        "    class_weight=clas_weights\n",
        ")"
      ],
      "id": "aa319ec8"
    },
    {
      "cell_type": "code",
      "execution_count": null,
      "metadata": {
        "colab": {
          "base_uri": "https://localhost:8080/",
          "height": 881
        },
        "id": "d4fda3ed",
        "outputId": "973da21e-0968-492d-da76-0502e663f551"
      },
      "outputs": [
        {
          "output_type": "display_data",
          "data": {
            "text/plain": [
              "<Figure size 1296x1080 with 4 Axes>"
            ],
            "image/png": "[encoded data removed]"
          },
          "metadata": {
            "needs_background": "light"
          }
        }
      ],
      "source": [
        "plot_metrics(history)"
      ],
      "id": "d4fda3ed"
    },
    {
      "cell_type": "code",
      "execution_count": null,
      "metadata": {
        "id": "54ecc66f"
      },
      "outputs": [],
      "source": [
        "# fine-tuning: unfreeze the base model and train the entire model end-to-end with a low learning rate\n",
        "model.get_layer('mobilenetv2_1.00_224').trainable = True\n",
        "\n",
        "model.compile(\n",
        "    optimizer=tf.keras.optimizers.Adam(\n",
        "        1e-5\n",
        "    ),  # we need small learning rate to avoid catastrophic forgetting\n",
        "    loss=tf.keras.losses.BinaryCrossentropy(),\n",
        "    metrics=METRICS,\n",
        ")"
      ],
      "id": "54ecc66f"
    },
    {
      "cell_type": "code",
      "execution_count": null,
      "metadata": {
        "colab": {
          "base_uri": "https://localhost:8080/"
        },
        "id": "YX0zp575Yt8y",
        "outputId": "88edf523-b7e6-43b6-e48f-19dfb8f551d3"
      },
      "outputs": [
        {
          "output_type": "stream",
          "name": "stdout",
          "text": [
            "Model: \"model\"\n",
            "_________________________________________________________________\n",
            " Layer (type)                Output Shape              Param #   \n",
            "=================================================================\n",
            " input_2 (InputLayer)        [(None, 224, 224, 3)]     0         \n",
            "                                                                 \n",
            " mobilenetv2_1.00_224 (Funct  (None, 1280)             2257984   \n",
            " ional)                                                          \n",
            "                                                                 \n",
            " dropout (Dropout)           (None, 1280)              0         \n",
            "                                                                 \n",
            " dense (Dense)               (None, 1)                 1281      \n",
            "                                                                 \n",
            "=================================================================\n",
            "Total params: 2,259,265\n",
            "Trainable params: 2,225,153\n",
            "Non-trainable params: 34,112\n",
            "_________________________________________________________________\n"
          ]
        }
      ],
      "source": [
        "model.summary()"
      ],
      "id": "YX0zp575Yt8y"
    },
    {
      "cell_type": "code",
      "execution_count": null,
      "metadata": {
        "id": "656215e6"
      },
      "outputs": [],
      "source": [
        "reduce_lr_on_plateau = tf.keras.callbacks.ReduceLROnPlateau(\n",
        "    monitor=\"val_loss\", #val_loss\n",
        "    verbose=1,\n",
        "    patience=1,\n",
        "    mode=\"min\",\n",
        "    factor=0.1, #nhân 0.2 vào lr\n",
        "    #min_lr=1e-10,\n",
        ")"
      ],
      "id": "656215e6"
    },
    {
      "cell_type": "code",
      "execution_count": null,
      "metadata": {
        "id": "EBEtRHbqlhzR"
      },
      "outputs": [],
      "source": [
        "checkpoint_filepath = '/content/gdrive/MyDrive/checkpoint' \n",
        "model_checkpoint_callback = tf.keras.callbacks.ModelCheckpoint(\n",
        "    filepath=checkpoint_filepath,\n",
        "    save_weights_only=False,\n",
        "    monitor='val_loss',\n",
        "    mode='min',\n",
        "    save_best_only=True)"
      ],
      "id": "EBEtRHbqlhzR"
    },
    {
      "cell_type": "code",
      "execution_count": null,
      "metadata": {
        "id": "3e36539b",
        "scrolled": false,
        "colab": {
          "base_uri": "https://localhost:8080/"
        },
        "outputId": "e4badfcd-5454-4f8c-b411-13c6e7afc39f"
      },
      "outputs": [
        {
          "output_type": "stream",
          "name": "stdout",
          "text": [
            "Epoch 1/100\n",
            "1098/1098 [==============================] - 307s 273ms/step - loss: 0.3532 - tp: 3135.0000 - fp: 538.0000 - tn: 5227.0000 - fn: 852.0000 - binary_acc: 0.8575 - precision: 0.8535 - recall: 0.7863 - f1_score: 0.8185 - roc_auc: 0.9169 - pr_auc: 0.9099 - cohen_kappa: 0.7015 - val_loss: 0.3599 - val_tp: 317.0000 - val_fp: 82.0000 - val_tn: 512.0000 - val_fn: 64.0000 - val_binary_acc: 0.8503 - val_precision: 0.7945 - val_recall: 0.8320 - val_f1_score: 0.8128 - val_roc_auc: 0.9220 - val_pr_auc: 0.9076 - val_cohen_kappa: 0.6881 - lr: 1.0000e-05\n",
            "Epoch 2/100\n",
            "1098/1098 [==============================] - ETA: 0s - loss: 0.3393 - tp: 2864.0000 - fp: 459.0000 - tn: 4712.0000 - fn: 742.0000 - binary_acc: 0.8632 - precision: 0.8619 - recall: 0.7942 - f1_score: 0.8267 - roc_auc: 0.9209 - pr_auc: 0.9167 - cohen_kappa: 0.7139\n",
            "Epoch 2: ReduceLROnPlateau reducing learning rate to 9.999999747378752e-07.\n",
            "1098/1098 [==============================] - 284s 259ms/step - loss: 0.3393 - tp: 2864.0000 - fp: 459.0000 - tn: 4712.0000 - fn: 742.0000 - binary_acc: 0.8632 - precision: 0.8619 - recall: 0.7942 - f1_score: 0.8267 - roc_auc: 0.9209 - pr_auc: 0.9167 - cohen_kappa: 0.7139 - val_loss: 0.3680 - val_tp: 323.0000 - val_fp: 81.0000 - val_tn: 513.0000 - val_fn: 58.0000 - val_binary_acc: 0.8574 - val_precision: 0.7995 - val_recall: 0.8478 - val_f1_score: 0.8229 - val_roc_auc: 0.9244 - val_pr_auc: 0.9104 - val_cohen_kappa: 0.7038 - lr: 1.0000e-05\n",
            "Epoch 3/100\n",
            "1098/1098 [==============================] - 286s 260ms/step - loss: 0.3082 - tp: 2919.0000 - fp: 408.0000 - tn: 4763.0000 - fn: 687.0000 - binary_acc: 0.8752 - precision: 0.8774 - recall: 0.8095 - f1_score: 0.8421 - roc_auc: 0.9372 - pr_auc: 0.9309 - cohen_kappa: 0.7392 - val_loss: 0.3231 - val_tp: 307.0000 - val_fp: 46.0000 - val_tn: 548.0000 - val_fn: 74.0000 - val_binary_acc: 0.8769 - val_precision: 0.8697 - val_recall: 0.8058 - val_f1_score: 0.8365 - val_roc_auc: 0.9288 - val_pr_auc: 0.9160 - val_cohen_kappa: 0.7381 - lr: 1.0000e-06\n",
            "Epoch 4/100\n",
            "1098/1098 [==============================] - ETA: 0s - loss: 0.2997 - tp: 2926.0000 - fp: 385.0000 - tn: 4786.0000 - fn: 680.0000 - binary_acc: 0.8787 - precision: 0.8837 - recall: 0.8114 - f1_score: 0.8460 - roc_auc: 0.9405 - pr_auc: 0.9351 - cohen_kappa: 0.7462\n",
            "Epoch 4: ReduceLROnPlateau reducing learning rate to 9.999999974752428e-08.\n",
            "1098/1098 [==============================] - 285s 260ms/step - loss: 0.2997 - tp: 2926.0000 - fp: 385.0000 - tn: 4786.0000 - fn: 680.0000 - binary_acc: 0.8787 - precision: 0.8837 - recall: 0.8114 - f1_score: 0.8460 - roc_auc: 0.9405 - pr_auc: 0.9351 - cohen_kappa: 0.7462 - val_loss: 0.3282 - val_tp: 315.0000 - val_fp: 57.0000 - val_tn: 537.0000 - val_fn: 66.0000 - val_binary_acc: 0.8738 - val_precision: 0.8468 - val_recall: 0.8268 - val_f1_score: 0.8367 - val_roc_auc: 0.9293 - val_pr_auc: 0.9113 - val_cohen_kappa: 0.7339 - lr: 1.0000e-06\n",
            "Epoch 5/100\n",
            "1098/1098 [==============================] - 283s 257ms/step - loss: 0.2957 - tp: 2967.0000 - fp: 396.0000 - tn: 4775.0000 - fn: 639.0000 - binary_acc: 0.8821 - precision: 0.8822 - recall: 0.8228 - f1_score: 0.8515 - roc_auc: 0.9426 - pr_auc: 0.9376 - cohen_kappa: 0.7539 - val_loss: 0.3148 - val_tp: 311.0000 - val_fp: 49.0000 - val_tn: 545.0000 - val_fn: 70.0000 - val_binary_acc: 0.8779 - val_precision: 0.8639 - val_recall: 0.8163 - val_f1_score: 0.8394 - val_roc_auc: 0.9307 - val_pr_auc: 0.9167 - val_cohen_kappa: 0.7411 - lr: 1.0000e-07\n",
            "Epoch 6/100\n",
            "1098/1098 [==============================] - ETA: 0s - loss: 0.2935 - tp: 2963.0000 - fp: 387.0000 - tn: 4784.0000 - fn: 643.0000 - binary_acc: 0.8826 - precision: 0.8845 - recall: 0.8217 - f1_score: 0.8519 - roc_auc: 0.9441 - pr_auc: 0.9372 - cohen_kappa: 0.7550\n",
            "Epoch 6: ReduceLROnPlateau reducing learning rate to 1.0000000116860975e-08.\n",
            "1098/1098 [==============================] - 284s 259ms/step - loss: 0.2935 - tp: 2963.0000 - fp: 387.0000 - tn: 4784.0000 - fn: 643.0000 - binary_acc: 0.8826 - precision: 0.8845 - recall: 0.8217 - f1_score: 0.8519 - roc_auc: 0.9441 - pr_auc: 0.9372 - cohen_kappa: 0.7550 - val_loss: 0.3271 - val_tp: 305.0000 - val_fp: 52.0000 - val_tn: 542.0000 - val_fn: 76.0000 - val_binary_acc: 0.8687 - val_precision: 0.8543 - val_recall: 0.8005 - val_f1_score: 0.8266 - val_roc_auc: 0.9236 - val_pr_auc: 0.9109 - val_cohen_kappa: 0.7211 - lr: 1.0000e-07\n",
            "Epoch 7/100\n",
            "1098/1098 [==============================] - ETA: 0s - loss: 0.2918 - tp: 2953.0000 - fp: 372.0000 - tn: 4799.0000 - fn: 653.0000 - binary_acc: 0.8832 - precision: 0.8881 - recall: 0.8189 - f1_score: 0.8521 - roc_auc: 0.9445 - pr_auc: 0.9384 - cohen_kappa: 0.7559\n",
            "Epoch 7: ReduceLROnPlateau reducing learning rate to 9.999999939225292e-10.\n",
            "1098/1098 [==============================] - 285s 259ms/step - loss: 0.2918 - tp: 2953.0000 - fp: 372.0000 - tn: 4799.0000 - fn: 653.0000 - binary_acc: 0.8832 - precision: 0.8881 - recall: 0.8189 - f1_score: 0.8521 - roc_auc: 0.9445 - pr_auc: 0.9384 - cohen_kappa: 0.7559 - val_loss: 0.3168 - val_tp: 316.0000 - val_fp: 53.0000 - val_tn: 541.0000 - val_fn: 65.0000 - val_binary_acc: 0.8790 - val_precision: 0.8564 - val_recall: 0.8294 - val_f1_score: 0.8427 - val_roc_auc: 0.9295 - val_pr_auc: 0.9187 - val_cohen_kappa: 0.7444 - lr: 1.0000e-08\n",
            "Epoch 8/100\n",
            "1098/1098 [==============================] - ETA: 0s - loss: 0.2935 - tp: 2950.0000 - fp: 368.0000 - tn: 4803.0000 - fn: 656.0000 - binary_acc: 0.8833 - precision: 0.8891 - recall: 0.8181 - f1_score: 0.8521 - roc_auc: 0.9439 - pr_auc: 0.9372 - cohen_kappa: 0.7561Restoring model weights from the end of the best epoch: 5.\n",
            "\n",
            "Epoch 8: ReduceLROnPlateau reducing learning rate to 9.999999717180686e-11.\n",
            "1098/1098 [==============================] - 287s 261ms/step - loss: 0.2935 - tp: 2950.0000 - fp: 368.0000 - tn: 4803.0000 - fn: 656.0000 - binary_acc: 0.8833 - precision: 0.8891 - recall: 0.8181 - f1_score: 0.8521 - roc_auc: 0.9439 - pr_auc: 0.9372 - cohen_kappa: 0.7561 - val_loss: 0.3208 - val_tp: 310.0000 - val_fp: 51.0000 - val_tn: 543.0000 - val_fn: 71.0000 - val_binary_acc: 0.8749 - val_precision: 0.8587 - val_recall: 0.8136 - val_f1_score: 0.8356 - val_roc_auc: 0.9259 - val_pr_auc: 0.9173 - val_cohen_kappa: 0.7347 - lr: 1.0000e-09\n",
            "Epoch 8: early stopping\n"
          ]
        }
      ],
      "source": [
        "history = model.fit(\n",
        "    trainset,\n",
        "    epochs=100,\n",
        "    validation_data=validationset,\n",
        "    callbacks=[early_stopping, reduce_lr_on_plateau],\n",
        "    class_weight=clas_weights\n",
        ")"
      ],
      "id": "3e36539b"
    },
    {
      "cell_type": "code",
      "execution_count": null,
      "metadata": {
        "id": "oSO4jpy2BlH4"
      },
      "outputs": [],
      "source": [
        "model.save(\n",
        "    f\"/content/gdrive/MyDrive/mobilenet_imagenet-360(date 15.8 XR_WRIST).h5\"\n",
        ")\n"
      ],
      "id": "oSO4jpy2BlH4"
    },
    {
      "cell_type": "code",
      "execution_count": null,
      "metadata": {
        "id": "69bdf980",
        "colab": {
          "base_uri": "https://localhost:8080/",
          "height": 881
        },
        "outputId": "4ae062a7-7c0d-46fc-a2b0-322974fb3a34"
      },
      "outputs": [
        {
          "output_type": "display_data",
          "data": {
            "text/plain": [
              "<Figure size 1296x1080 with 4 Axes>"
            ],
            "image/png": "[encoded data removed]"
          },
          "metadata": {
            "needs_background": "light"
          }
        }
      ],
      "source": [
        "plot_metrics(history)"
      ],
      "id": "69bdf980"
    },
    {
      "cell_type": "code",
      "execution_count": null,
      "metadata": {
        "id": "9660337e",
        "colab": {
          "base_uri": "https://localhost:8080/"
        },
        "outputId": "7f2c9ebb-1c06-4e94-8452-9b921510ed89"
      },
      "outputs": [
        {
          "output_type": "stream",
          "name": "stdout",
          "text": [
            "122/122 [==============================] - 24s 198ms/step - loss: 0.3187 - tp: 311.0000 - fp: 46.0000 - tn: 548.0000 - fn: 70.0000 - binary_acc: 0.8810 - precision: 0.8711 - recall: 0.8163 - f1_score: 0.8428 - roc_auc: 0.9278 - pr_auc: 0.9155 - cohen_kappa: 0.7473\n"
          ]
        }
      ],
      "source": [
        "# get the loss value & metrics values for the model in validation mode\n",
        "evaluation_metrics = model.evaluate(validationset, verbose=1)"
      ],
      "id": "9660337e"
    },
    {
      "cell_type": "code",
      "execution_count": null,
      "metadata": {
        "id": "7e502324",
        "colab": {
          "base_uri": "https://localhost:8080/"
        },
        "outputId": "f40b2688-8b20-4c8a-c5d5-98503e082a28"
      },
      "outputs": [
        {
          "output_type": "stream",
          "name": "stdout",
          "text": [
            "val loss    : 0.3187101185321808\n",
            "tp          : 311.0\n",
            "fp          : 46.0\n",
            "tn          : 548.0\n",
            "fn          : 70.0\n",
            "binary_acc  : 0.8810256123542786\n",
            "precision   : 0.8711484670639038\n",
            "recall      : 0.8162729740142822\n",
            "f1_score    : 0.8428184390068054\n",
            "roc_auc     : 0.9277817606925964\n",
            "pr_auc      : 0.9155369400978088\n",
            "cohen_kappa : 0.7472715973854065\n"
          ]
        }
      ],
      "source": [
        "loss = evaluation_metrics.pop(0)\n",
        "\n",
        "print(f\"val loss    : {loss}\")\n",
        "for metric, score in zip(METRICS, evaluation_metrics):\n",
        "\n",
        "    print(f\"{metric.name + ' ' * (12 - len(metric.name))}: {score}\")"
      ],
      "id": "7e502324"
    },
    {
      "cell_type": "code",
      "execution_count": null,
      "metadata": {
        "id": "9491c46f",
        "colab": {
          "base_uri": "https://localhost:8080/",
          "height": 123
        },
        "outputId": "c5a1a12d-f634-4276-befe-5fc62bc7d3ef"
      },
      "outputs": [
        {
          "output_type": "execute_result",
          "data": {
            "text/plain": [
              "'clean_up(model)\\nclean_up(densenet)\\n13.6 10h sáng cohen_kappa : 0.60,\\n/content/gdrive/MyDrive/mobilenet_imagenet-360(date 13.6 2nd )\\nval loss    : 0.3861117660999298\\ntp          : 272.0\\nfp          : 39.0\\ntn          : 553.0\\nfn          : 122.0\\nbinary_acc  : 0.836713969707489\\nprecision   : 0.8745980858802795\\nrecall      : 0.6903553009033203\\nroc_auc     : 0.8837353587150574\\npr_auc      : 0.8760529160499573\\ncohen_kappa : 0.6472797393798828 dropout 0.5\\n/content/gdrive/MyDrive/mobilenet_imagenet-360(date 13.6 3nd ) ko dropout \\nval loss    : 0.3759690225124359\\ntp          : 267.0\\nfp          : 31.0\\ntn          : 561.0\\nfn          : 127.0\\nbinary_acc  : 0.8397566080093384\\nprecision   : 0.8959731459617615\\nrecall      : 0.6776649951934814\\nroc_auc     : 0.8917504549026489\\npr_auc      : 0.8850770592689514\\ncohen_kappa : 0.6518610715866089\\n/content/gdrive/MyDrive/mobilenet_imagenet-360(date 19.6 ) thêm class weight\\nval loss    : 0.4006311297416687\\ntp          : 256.0\\nfp          : 20.0\\ntn          : 572.0\\nfn          : 138.0\\nbinary_acc  : 0.8397566080093384\\nprecision   : 0.9275362491607666\\nrecall      : 0.6497461795806885\\nroc_auc     : 0.8719367384910583\\npr_auc      : 0.8714836835861206\\ncohen_kappa : 0.6484388113021851\\n\\n '"
            ],
            "application/vnd.google.colaboratory.intrinsic+json": {
              "type": "string"
            }
          },
          "metadata": {},
          "execution_count": 81
        }
      ],
      "source": [
        "'''clean_up(model)\n",
        "clean_up(densenet)\n",
        "13.6 10h sáng cohen_kappa : 0.60,\n",
        "/content/gdrive/MyDrive/mobilenet_imagenet-360(date 13.6 2nd )\n",
        "val loss    : 0.3861117660999298\n",
        "tp          : 272.0\n",
        "fp          : 39.0\n",
        "tn          : 553.0\n",
        "fn          : 122.0\n",
        "binary_acc  : 0.836713969707489\n",
        "precision   : 0.8745980858802795\n",
        "recall      : 0.6903553009033203\n",
        "roc_auc     : 0.8837353587150574\n",
        "pr_auc      : 0.8760529160499573\n",
        "cohen_kappa : 0.6472797393798828 dropout 0.5\n",
        "/content/gdrive/MyDrive/mobilenet_imagenet-360(date 13.6 3nd ) ko dropout \n",
        "val loss    : 0.3759690225124359\n",
        "tp          : 267.0\n",
        "fp          : 31.0\n",
        "tn          : 561.0\n",
        "fn          : 127.0\n",
        "binary_acc  : 0.8397566080093384\n",
        "precision   : 0.8959731459617615\n",
        "recall      : 0.6776649951934814\n",
        "roc_auc     : 0.8917504549026489\n",
        "pr_auc      : 0.8850770592689514\n",
        "cohen_kappa : 0.6518610715866089\n",
        "/content/gdrive/MyDrive/mobilenet_imagenet-360(date 19.6 ) thêm class weight\n",
        "val loss    : 0.4006311297416687\n",
        "tp          : 256.0\n",
        "fp          : 20.0\n",
        "tn          : 572.0\n",
        "fn          : 138.0\n",
        "binary_acc  : 0.8397566080093384\n",
        "precision   : 0.9275362491607666\n",
        "recall      : 0.6497461795806885\n",
        "roc_auc     : 0.8719367384910583\n",
        "pr_auc      : 0.8714836835861206\n",
        "cohen_kappa : 0.6484388113021851\n",
        "\n",
        " '''"
      ],
      "id": "9491c46f"
    }
  ],
  "metadata": {
    "accelerator": "GPU",
    "colab": {
      "collapsed_sections": [],
      "provenance": []
    },
    "kernelspec": {
      "display_name": "Python 3 (ipykernel)",
      "language": "python",
      "name": "python3"
    },
    "language_info": {
      "codemirror_mode": {
        "name": "ipython",
        "version": 3
      },
      "file_extension": ".py",
      "mimetype": "text/x-python",
      "name": "python",
      "nbconvert_exporter": "python",
      "pygments_lexer": "ipython3",
      "version": "3.8.10"
    }
  },
  "nbformat": 4,
  "nbformat_minor": 5
}