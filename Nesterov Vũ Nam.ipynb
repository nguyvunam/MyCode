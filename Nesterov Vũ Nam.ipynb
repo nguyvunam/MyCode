{
 "cells": [
  {
   "cell_type": "markdown",
   "id": "indoor-lightning",
   "metadata": {},
   "source": [
    "# Thuật toán Nesterov accelerated gradient cho hồi quy tuyến tính\n"
   ]
  },
  {
   "cell_type": "markdown",
   "id": "original-corruption",
   "metadata": {},
   "source": [
    "Họ và tên: Ngụy Vũ Nam\n",
    "<br>Lớp: Khoa học dữ liệu ứng dụng"
   ]
  },
  {
   "cell_type": "markdown",
   "id": "charged-islam",
   "metadata": {},
   "source": [
    "Với X là ma trận thuộc tính\n",
    "<br>y là biến phụ thuộc\n",
    "<br>w là vector trọng số với số chiều phù hợp\n",
    "<br>Ta có các hàm cần thiết:\n",
    "<br>Hàm f(X)=X*w \n",
    "<br>Hàm cost function cho hồi quy tuyến tính: J(w)=1/(2*m)*(y − X*w)^2\n",
    "<br>Đạo hàm hàm cost: Grad J(w)=(1/m)* X'*(X*w-y)\n",
    "<br>Xử lý trên tập data là dữ liệu giá nhà ở Boston của thư viện sklearn"
   ]
  },
  {
   "cell_type": "markdown",
   "id": "subjective-suite",
   "metadata": {},
   "source": [
    "### Nhập các thư viện cần thiết"
   ]
  },
  {
   "cell_type": "code",
   "execution_count": 14,
   "id": "novel-offer",
   "metadata": {},
   "outputs": [],
   "source": [
    "import numpy as np #Nhập thư viện numpy gọi với tên np\n",
    "from sklearn.datasets import load_boston #nhập tập dữ liệu giá nhà của thư viện sklearn\n",
    "from sklearn.model_selection import train_test_split #chia tập dữ liệu\n",
    "import matplotlib.pyplot as plt #thư viện matplotlib"
   ]
  },
  {
   "cell_type": "markdown",
   "id": "continent-medicaid",
   "metadata": {},
   "source": [
    "### Các hàm cần dùng"
   ]
  },
  {
   "cell_type": "code",
   "execution_count": 15,
   "id": "incorrect-conservative",
   "metadata": {},
   "outputs": [],
   "source": [
    "   #Hàm gradient descent Nesterov\n",
    "def GD_Nes(X, y, eta, gamma,it3r):  \n",
    "    theta = np.random.rand(len(X[0]),1) #khởi tạo giá trị theta ngẫu nhiên khoản [0,1]\n",
    "    v = np.zeros_like(theta) #khởi tạo giá trị v đầu là vector 0\n",
    "    for i in range(it3r): #vòng lặp cập nhật theta theo phương pháp Nesterov\n",
    "        theta1 = theta - gamma*v\n",
    "        v = gamma*v + eta*grad(X,y,theta1)        \n",
    "        theta = theta - v \n",
    "    return theta \n",
    "   #Tính đạo hàm hàm cost function   \n",
    "def grad(X,y,theta): #tính grad theo công thức Grad J(w)=(1/m) X'(Xw-y)\n",
    "    m=len(X) #m là số mẫu tập X\n",
    "    Xtheta=np.dot(X,theta) #nhân ma trận X và theta\n",
    "    Xtrans=X.transpose()     #chuyển  vị ma trận X\n",
    "    grad =np.dot(Xtrans,Xtheta-y) #nhân ma trận\n",
    "    return grad/m \n",
    "   #Normalize data để các feature cùng nằm trên khoảng [0,1]\n",
    "def normalize(data): #tìm giá trị lớn nhất và nhỏ nhất của từng thuộc tính, ánh xạ x thành (x- min)/(max-min)\n",
    "    min_val = np.min(data, axis=0)\n",
    "    max_val = np.max(data, axis=0)\n",
    "    norm_x = np.array([(row - min_val) / (max_val - min_val) for row in data])\n",
    "    return (norm_x,min_val,max_val)"
   ]
  },
  {
   "cell_type": "markdown",
   "id": "graphic-regulation",
   "metadata": {},
   "source": [
    "### Sử lí dữ liệu"
   ]
  },
  {
   "cell_type": "code",
   "execution_count": 16,
   "id": "joint-profile",
   "metadata": {},
   "outputs": [],
   "source": [
    "X, y = load_boston(return_X_y=True) #nhập data\n",
    "y=y.reshape(len(y),1) #reshape lại y thành [503,1]. y ban đầu là kiểu [503,] tính toán sẽ bị lỗi\n",
    "(X,Xmin,Xmax)= normalize(X) #chuẩn hóa X,y\n",
    "(y,ymin,ymax)= normalize(y) #lưu cả giá trị min max để có thể reverse lại nếu cần\n",
    "one = np.ones((X.shape[0], 1)) #tạo vector cột toàn 1 cho theta_0\n",
    "Xbar = np.concatenate((one, X), axis = 1) #ghép vào tập X\n",
    "X_train, X_test, y_train, y_test = train_test_split(Xbar, y, test_size=0.3, random_state=42) #trộn và chia tập dữ liệu\n",
    "theta = GD_Nes(X_train, y_train, 0.2, 0.9,100) # train mô hình với 100 vòng lặp (tìm tham số theta)\n",
    "\n",
    "# tính giá trị hàm loss của tệp test và tệp train với số vòng lặp khác nhau\n",
    "# có thể dùng vòng lặp for của hàm GD_Nes để làm việc này\n",
    "# giúp tiết kiệm tài nguyên máy\n",
    "# nhưng đầu ra hàm GD_Nes sẽ phức tạp hơn\n",
    "loss_train=[]\n",
    "loss_test=[]\n",
    "for i in range(1,100):\n",
    "    theta = GD_Nes(X_train, y_train, 0.1, 0.9,i)\n",
    "    m=len(X_train)\n",
    "    a=y_train-np.dot(X_train,theta)\n",
    "    b=a.transpose()\n",
    "    c=np.dot(b,a)/(2*m)\n",
    "    loss_train.append(c[0][0]) \n",
    "    m=len(X_test)\n",
    "    d=y_test-np.dot(X_test,theta)\n",
    "    e=d.transpose()\n",
    "    f=np.dot(e,d)/(2*m)\n",
    "    loss_test.append(f[0][0])    "
   ]
  },
  {
   "cell_type": "markdown",
   "id": "prerequisite-transsexual",
   "metadata": {},
   "source": [
    "### Vẽ biểu đồ loss"
   ]
  },
  {
   "cell_type": "code",
   "execution_count": 17,
   "id": "scenic-belle",
   "metadata": {
    "scrolled": true
   },
   "outputs": [
    {
     "data": {
      "image/png": "[encoded data removed]",
      "text/plain": [
       "<Figure size 432x288 with 1 Axes>"
      ]
     },
     "metadata": {
      "needs_background": "light"
     },
     "output_type": "display_data"
    }
   ],
   "source": [
    "#vẽ biểu đồ\n",
    "epochs = range(1,100) #tạo list só vòng lặp giá trị từ 1 tới 99\n",
    "plt.plot(epochs, loss_train, 'g', label='Training loss') #vẽ biểu đồ loss train theo số lần lặp\n",
    "plt.plot(epochs, loss_test, 'b', label='Test loss') #vẽ biểu đồ loss test theo số lần lặp\n",
    "plt.title('Training and test loss') #tiêu đề biểu đồ\n",
    "plt.xlabel('Epochs') #dán nhãn trục X\n",
    "plt.ylabel('Loss')  #dán nhãn trục y\n",
    "plt.legend() #chú thích\n",
    "plt.show() # hiển thị figures"
   ]
  },
  {
   "cell_type": "markdown",
   "id": "devoted-education",
   "metadata": {},
   "source": [
    "Ta thấy mô hình chạy tốt. Giá trị hàm loss hội tụ nhanh về cực tiểu. Có sự đồng nhất cao giá trị hàm loss giữa tập train và tập test."
   ]
  }
 ],
 "metadata": {
  "kernelspec": {
   "display_name": "Python 3",
   "language": "python",
   "name": "python3"
  },
  "language_info": {
   "codemirror_mode": {
    "name": "ipython",
    "version": 3
   },
   "file_extension": ".py",
   "mimetype": "text/x-python",
   "name": "python",
   "nbconvert_exporter": "python",
   "pygments_lexer": "ipython3",
   "version": "3.9.1"
  }
 },
 "nbformat": 4,
 "nbformat_minor": 5
}
